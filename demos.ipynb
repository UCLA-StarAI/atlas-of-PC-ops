{
 "cells": [
  {
   "cell_type": "code",
   "execution_count": 1,
   "metadata": {},
   "outputs": [],
   "source": [
    "using Revise\n",
    "using LogicCircuits, ProbabilisticCircuits\n",
    "\n",
    "includet(\"product.jl\");\n",
    "includet(\"log.jl\");\n",
    "includet(\"support_circuit.jl\");\n",
    "includet(\"real_power.jl\");\n",
    "includet(\"integrate.jl\");\n",
    "includet(\"information.jl\");\n",
    "includet(\"quotient.jl\");"
   ]
  },
  {
   "cell_type": "markdown",
   "metadata": {},
   "source": [
    "Pipelines"
   ]
  },
  {
   "cell_type": "code",
   "execution_count": 2,
   "metadata": {},
   "outputs": [
    {
     "data": {
      "text/plain": [
       "ent (generic function with 1 method)"
      ]
     },
     "execution_count": 2,
     "metadata": {},
     "output_type": "execute_result"
    }
   ],
   "source": [
    "function ent(pc::ProbCircuit)\n",
    "    println(\"> Size of the input circuits: pc - $(num_edges(pc))\")\n",
    "    t = @elapsed log_pc = log_circuit(pc; log_prob = true)\n",
    "    println(\"> Computing log(pc) took $(t) seconds; the result circuit has $(num_edges(log_pc)) edges\")\n",
    "    t = @elapsed pc_t_log_pc = product_circuit(pc, log_pc; m_log_prob = true, n_log_prob = false, compatible = true)\n",
    "    println(\"> Computing pc * log(pc) took $(t) seconds; the result circuit has $(num_edges(pc_t_log_pc)) edges\")\n",
    "    t = @elapsed ent_val = -integrate_circuit(pc_t_log_pc; log_prob = false)\n",
    "    println(\"> Computing int(pc * log(pc)) took $(t) seconds.\")\n",
    "    println(\"> The entropy of pc is $(ent_val).\")\n",
    "end"
   ]
  },
  {
   "cell_type": "code",
   "execution_count": 3,
   "metadata": {},
   "outputs": [
    {
     "data": {
      "text/plain": [
       "xent (generic function with 1 method)"
      ]
     },
     "execution_count": 3,
     "metadata": {},
     "output_type": "execute_result"
    }
   ],
   "source": [
    "function xent(pc1::ProbCircuit, pc2::ProbCircuit)\n",
    "    println(\"> Size of the input circuits: pc1 - $(num_edges(pc1)), pc2 - $(num_edges(pc2))\")\n",
    "    t = @elapsed log_pc2 = log_circuit(pc2; log_prob = true)\n",
    "    println(\"> Computing log(pc2) took $(t) seconds; the result circuit has $(num_edges(log_pc2)) edges\")\n",
    "    t = @elapsed pc1_t_log_pc2 = product_circuit(pc1, log_pc2; m_log_prob = true, n_log_prob = false, compatible = true)\n",
    "    println(\"> Computing pc1 * log(pc2) took $(t) seconds; the result circuit has $(num_edges(pc1_t_log_pc2)) edges\")\n",
    "    t = @elapsed xent_val = -integrate_circuit(pc1_t_log_pc2; log_prob = false)\n",
    "    println(\"> Computing int(pc1 * log(pc2)) took $(t) seconds.\")\n",
    "    println(\"> The cross entropy between pc1 and pc2 is $(xent_val).\")\n",
    "end"
   ]
  },
  {
   "cell_type": "code",
   "execution_count": 15,
   "metadata": {},
   "outputs": [
    {
     "data": {
      "text/plain": [
       "kld (generic function with 1 method)"
      ]
     },
     "execution_count": 15,
     "metadata": {},
     "output_type": "execute_result"
    }
   ],
   "source": [
    "function kld(pc1::ProbCircuit, pc2::ProbCircuit)\n",
    "    println(\"> Size of the input circuits: pc1 - $(num_edges(pc1)), pc2 - $(num_edges(pc2))\")\n",
    "    t = @elapsed inv_pc2 = circuit_real_power(pc2, -1.0)\n",
    "    println(\"> Computing 1/pc2 took $(t) seconds; the result circuit has $(num_edges(inv_pc2)) edges\")\n",
    "    t = @elapsed pc1_q_pc2 = product_circuit(pc1, inv_pc2; m_log_prob = true, n_log_prob = true, compatible = true)\n",
    "    println(\"> Computing pc1/pc2 took $(t) seconds; the result circuit has $(num_edges(pc1_q_pc2)) edges\")\n",
    "    t = @elapsed log_pc1_q_pc2 = log_circuit(pc1_q_pc2; log_prob = false)\n",
    "    println(\"> Computing log(pc1/pc2) took $(t) seconds; the result circuit has $(num_edges(log_pc1_q_pc2)) edges\")\n",
    "    t = @elapsed pc1_t_log_pc1_q_pc2 = product_circuit(pc1, log_pc1_q_pc2; m_log_prob = true, n_log_prob = false, compatible = true)\n",
    "    println(\"> Computing pc1 * log(pc1/pc2) took $(t) seconds; the result circuit has $(num_edges(pc1_t_log_pc1_q_pc2)) edges\")\n",
    "    t = @elapsed kld_val = integrate_circuit(pc1_t_log_pc1_q_pc2; log_prob = false)\n",
    "    println(\"> Computing int(pc1 * log(pc1/pc2)) took $(t) seconds.\")\n",
    "    println(\"> The KLD between pc1 and pc2 is $(kld_val).\")\n",
    "end"
   ]
  },
  {
   "cell_type": "code",
   "execution_count": 5,
   "metadata": {},
   "outputs": [
    {
     "data": {
      "text/plain": [
       "reiny_alpha_div (generic function with 1 method)"
      ]
     },
     "execution_count": 5,
     "metadata": {},
     "output_type": "execute_result"
    }
   ],
   "source": [
    "function reiny_alpha_div(pc1::ProbCircuit, pc2::ProbCircuit; alpha::Float64)\n",
    "    println(\"> Size of the input circuits: pc1 - $(num_edges(pc1)), pc2 - $(num_edges(pc2))\")\n",
    "    t = @elapsed powpc1 = circuit_real_power(pc1, alpha)\n",
    "    println(\"> Computing pc1^alpha took $(t) seconds; the result circuit has $(num_edges(powpc1)) edges\")\n",
    "    t = @elapsed powpc2 = circuit_real_power(pc2, 1.0 - alpha)\n",
    "    println(\"> Computing pc2^(1-alpha) took $(t) seconds; the result circuit has $(num_edges(powpc2)) edges\")\n",
    "    t = @elapsed powpc1_t_powpc2 = product_circuit(powpc1, powpc2; m_log_prob = true, n_log_prob = true, compatible = true)\n",
    "    println(\"> Computing pc1^alpha * pc2^(1-alpha) took $(t) seconds; the result circuit has $(num_edges(powpc1_t_powpc2)) edges\")\n",
    "    t = @elapsed reiny_val = log(integrate_circuit(powpc1_t_powpc2; log_prob = false)) / (1.0 - alpha)\n",
    "    println(\"> Computing int(pc1^alpha * pc2^(1-alpha)) took $(t) seconds.\")\n",
    "    println(\"> The Reiny's Alpha Divergence between pc1 and pc2 is $(reiny_val).\")\n",
    "end"
   ]
  },
  {
   "cell_type": "markdown",
   "metadata": {},
   "source": [
    "Load PCs"
   ]
  },
  {
   "cell_type": "code",
   "execution_count": 6,
   "metadata": {},
   "outputs": [],
   "source": [
    "pc1 = load_prob_circuit(\"pcs/plants_100.psdd\");\n",
    "pc2 = load_prob_circuit(\"pcs/plants_500.psdd\");"
   ]
  },
  {
   "cell_type": "code",
   "execution_count": 11,
   "metadata": {},
   "outputs": [
    {
     "name": "stdout",
     "output_type": "stream",
     "text": [
      "> Size of the input circuits: pc - 4854\n",
      "> Computing log(pc) took 0.021104033 seconds; the result circuit has 17742 edges\n",
      "> Computing pc * log(pc) took 0.073178862 seconds; the result circuit has 17742 edges\n",
      "> Computing int(pc * log(pc)) took 0.003401263 seconds.\n",
      "> The entropy of pc is 15.3851550327636.\n"
     ]
    }
   ],
   "source": [
    "ent(pc1)"
   ]
  },
  {
   "cell_type": "code",
   "execution_count": 12,
   "metadata": {},
   "outputs": [
    {
     "name": "stdout",
     "output_type": "stream",
     "text": [
      "> Size of the input circuits: pc1 - 4854, pc2 - 63562\n",
      "> Computing log(pc2) took 0.175586626 seconds; the result circuit has 232989 edges\n",
      "> Computing pc1 * log(pc2) took 1.159245596 seconds; the result circuit has 233045 edges\n",
      "> Computing int(pc1 * log(pc2)) took 0.169091174 seconds.\n",
      "> The cross entropy between pc1 and pc2 is 17.385056426813467.\n"
     ]
    }
   ],
   "source": [
    "xent(pc1, pc2)"
   ]
  },
  {
   "cell_type": "code",
   "execution_count": 17,
   "metadata": {},
   "outputs": [
    {
     "name": "stdout",
     "output_type": "stream",
     "text": [
      "> Size of the input circuits: pc1 - 4854, pc2 - 63562\n",
      "> Computing 1/pc2 took 0.031285941 seconds; the result circuit has 63562 edges\n",
      "> Computing pc1/pc2 took 0.362805622 seconds; the result circuit has 63618 edges\n",
      "> Computing log(pc1/pc2) took 0.162056442 seconds; the result circuit has 233157 edges\n",
      "> Computing pc1 * log(pc1/pc2) took 1.340772199 seconds; the result circuit has 233157 edges\n",
      "> Computing int(pc1 * log(pc1/pc2)) took 0.062308202 seconds.\n",
      "> The KLD between pc1 and pc2 is 1.9999013940498658.\n"
     ]
    }
   ],
   "source": [
    "kld(pc1, pc2)"
   ]
  },
  {
   "cell_type": "code",
   "execution_count": 14,
   "metadata": {},
   "outputs": [
    {
     "name": "stdout",
     "output_type": "stream",
     "text": [
      "> Size of the input circuits: pc1 - 4854, pc2 - 63562\n",
      "> Computing pc1^alpha took 0.002705348 seconds; the result circuit has 4854 edges\n",
      "> Computing pc2^(1-alpha) took 0.023019769 seconds; the result circuit has 63562 edges\n",
      "> Computing pc1^alpha * pc2^(1-alpha) took 0.310346047 seconds; the result circuit has 63618 edges\n",
      "> Computing int(pc1^alpha * pc2^(1-alpha)) took 0.018752003 seconds.\n",
      "> The Reiny's Alpha Divergence between pc1 and pc2 is -6.009454249699177.\n"
     ]
    }
   ],
   "source": [
    "reiny_alpha_div(pc1, pc2; alpha = 1.5)"
   ]
  },
  {
   "cell_type": "code",
   "execution_count": null,
   "metadata": {},
   "outputs": [],
   "source": []
  }
 ],
 "metadata": {
  "kernelspec": {
   "display_name": "Julia 1.5.2",
   "language": "julia",
   "name": "julia-1.5"
  },
  "language_info": {
   "file_extension": ".jl",
   "mimetype": "application/julia",
   "name": "julia",
   "version": "1.5.2"
  }
 },
 "nbformat": 4,
 "nbformat_minor": 4
}
